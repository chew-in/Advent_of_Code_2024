{
 "cells": [
  {
   "cell_type": "code",
   "execution_count": 1,
   "metadata": {},
   "outputs": [],
   "source": [
    "import pandas as pd\n",
    "import numpy as np\n",
    "from collections import Counter, defaultdict, deque\n",
    "import re\n",
    "import math\n",
    "from itertools import combinations\n",
    "# pd.options.display.float_format = \"{:,.4f}\".format\n",
    "\n",
    "# import matplotlib.pyplot as plt\n",
    "# import seaborn as sns\n",
    "\n",
    "# import statsmodels.api as sm\n",
    "# from scipy.stats import norm\n",
    "# from sklearn.linear_model import LinearRegression\n",
    "# from arch import arch_model\n",
    "\n",
    "# import warnings\n",
    "# warnings.filterwarnings(\"ignore\")\n",
    "\n",
    "# import importlib\n",
    "# import utils as ut\n",
    "# importlib.reload(ut)"
   ]
  },
  {
   "cell_type": "markdown",
   "metadata": {},
   "source": [
    "--- Day 1: Historian Hysteria ---"
   ]
  },
  {
   "cell_type": "code",
   "execution_count": 4,
   "metadata": {},
   "outputs": [
    {
     "data": {
      "text/plain": [
       "np.int64(2086478)"
      ]
     },
     "execution_count": 4,
     "metadata": {},
     "output_type": "execute_result"
    }
   ],
   "source": [
    "file_path = './data/input_1.txt'\n",
    "data = np.loadtxt(file_path, dtype=int)\n",
    "\n",
    "left, right = np.sort(data[:, 0]), np.sort(data[:, 1])\n",
    "\n",
    "np.sum(np.abs(left - right))"
   ]
  },
  {
   "cell_type": "code",
   "execution_count": 5,
   "metadata": {},
   "outputs": [
    {
     "data": {
      "text/plain": [
       "np.int64(24941624)"
      ]
     },
     "execution_count": 5,
     "metadata": {},
     "output_type": "execute_result"
    }
   ],
   "source": [
    "counter = Counter(right)\n",
    "sum(counter[l] * l for l in left)"
   ]
  },
  {
   "cell_type": "markdown",
   "metadata": {},
   "source": [
    "--- Day 2: Red-Nosed Reports ---"
   ]
  },
  {
   "cell_type": "code",
   "execution_count": 26,
   "metadata": {},
   "outputs": [
    {
     "data": {
      "text/plain": [
       "483"
      ]
     },
     "execution_count": 26,
     "metadata": {},
     "output_type": "execute_result"
    }
   ],
   "source": [
    "file_path = './data/input_2.txt'\n",
    "with open(file_path, 'r') as file:\n",
    "    data = [list(map(int, line.split())) for line in file]\n",
    "\n",
    "def is_safe(row):\n",
    "    differences = [row[i] - row[i - 1] for i in range(1, len(row))]\n",
    "    return all(1 <= diff <= 3 for diff in differences) or all(-3 <= diff <= -1 for diff in differences)\n",
    "\n",
    "sum(is_safe(row) for row in data)"
   ]
  },
  {
   "cell_type": "code",
   "execution_count": 31,
   "metadata": {},
   "outputs": [
    {
     "data": {
      "text/plain": [
       "528"
      ]
     },
     "execution_count": 31,
     "metadata": {},
     "output_type": "execute_result"
    }
   ],
   "source": [
    "def is_removable_safe(row):\n",
    "    if is_safe(row):\n",
    "        return True\n",
    "    for i in range(len(row)):\n",
    "        new_row = row[:i] + row[i + 1:]\n",
    "        if is_safe(new_row):\n",
    "            return True\n",
    "    return False\n",
    "\n",
    "sum(is_removable_safe(row) for row in data)"
   ]
  },
  {
   "cell_type": "markdown",
   "metadata": {},
   "source": [
    "--- Day 3: Mull It Over ---"
   ]
  },
  {
   "cell_type": "code",
   "execution_count": 10,
   "metadata": {},
   "outputs": [
    {
     "data": {
      "text/plain": [
       "175615763"
      ]
     },
     "execution_count": 10,
     "metadata": {},
     "output_type": "execute_result"
    }
   ],
   "source": [
    "file_path = './data/input_3.txt'\n",
    "with open(file_path, 'r') as file:\n",
    "    data = file.read()\n",
    "\n",
    "pattern = r'mul\\((\\d+),(\\d+)\\)'\n",
    "matches = re.findall(pattern, data)\n",
    "sum(int(a) * int(b) for a, b in matches)"
   ]
  },
  {
   "cell_type": "code",
   "execution_count": 22,
   "metadata": {},
   "outputs": [
    {
     "data": {
      "text/plain": [
       "74361272"
      ]
     },
     "execution_count": 22,
     "metadata": {},
     "output_type": "execute_result"
    }
   ],
   "source": [
    "mul_pattern = r\"mul\\((\\d+),(\\d+)\\)\"\n",
    "do_pattern = r\"do\\(\\)\"\n",
    "dont_pattern = r\"don't\\(\\)\"\n",
    "\n",
    "pattern = f\"{mul_pattern}|{do_pattern}|{dont_pattern}\"\n",
    "\n",
    "matches = re.finditer(pattern, data)\n",
    "\n",
    "mul_enabled = True\n",
    "total_sum = 0\n",
    "\n",
    "for match in matches:\n",
    "    if match.group().startswith('do()'):\n",
    "        mul_enabled = True\n",
    "    elif match.group().startswith(\"don't()\"):\n",
    "        mul_enabled = False\n",
    "    elif mul_enabled and match.group().startswith(\"mul(\"):\n",
    "        a, b = map(int, match.groups())\n",
    "        total_sum += a * b\n",
    "\n",
    "total_sum"
   ]
  },
  {
   "cell_type": "markdown",
   "metadata": {},
   "source": [
    "--- Day 4: Ceres Search ---"
   ]
  },
  {
   "cell_type": "code",
   "execution_count": 62,
   "metadata": {},
   "outputs": [],
   "source": [
    "file_path = './data/input_4.txt'\n",
    "with open(file_path, 'r') as file:\n",
    "    data = file.read().strip()\n",
    "lines = data.splitlines()"
   ]
  },
  {
   "cell_type": "code",
   "execution_count": 72,
   "metadata": {},
   "outputs": [
    {
     "data": {
      "text/plain": [
       "2427"
      ]
     },
     "execution_count": 72,
     "metadata": {},
     "output_type": "execute_result"
    }
   ],
   "source": [
    "def collect_all_directions(grid):\n",
    "    R, C = len(grid), len(grid[0])\n",
    "    directions = []\n",
    "    directions.extend(grid)\n",
    "    directions.extend([row[::-1] for row in grid])\n",
    "    directions.extend([''.join([grid[r][c] for r in range(R)]) for c in range(C)])\n",
    "    directions.extend([''.join([grid[R - 1 - r][c] for r in range(R)]) for c in range(C)])\n",
    "\n",
    "    for d in range(-R + 1, C):\n",
    "        directions.append(''.join([grid[r][r - d] for r in range(max(0, d), min(R, C + d))]))\n",
    "    for d in range(-R + 1, C):\n",
    "        directions.append(''.join([grid[R - 1 - r][r - d] for r in range(max(0, d), min(R, C + d))]))\n",
    "    for d in range(-R + 1, C):\n",
    "        directions.append(''.join([grid[r][C - 1 - (r - d)] for r in range(max(0, d), min(R, C + d))]))\n",
    "    for d in range(-R + 1, C):\n",
    "        directions.append(''.join([grid[R - 1 - r][C - 1 - (r - d)] for r in range(max(0, d), min(R, C + d))]))\n",
    "\n",
    "    return directions\n",
    "\n",
    "directions = collect_all_directions(lines)\n",
    "sum(direction.count('XMAS') for direction in directions)"
   ]
  },
  {
   "cell_type": "code",
   "execution_count": 77,
   "metadata": {},
   "outputs": [
    {
     "data": {
      "text/plain": [
       "1900"
      ]
     },
     "execution_count": 77,
     "metadata": {},
     "output_type": "execute_result"
    }
   ],
   "source": [
    "def count_X_MAS(grid):\n",
    "    res = 0\n",
    "    for r in range(1, len(grid) - 1):\n",
    "        for c in range(1, len(grid[0]) - 1):\n",
    "            if grid[r][c] == 'A':\n",
    "                if set([grid[r - 1][c - 1], grid[r + 1][c + 1]]) == {'M', 'S'} and set([grid[r - 1][c + 1], grid[r + 1][c - 1]]) == {'M', 'S'}:\n",
    "                    res += 1\n",
    "\n",
    "    return res\n",
    "count_X_MAS(lines)"
   ]
  },
  {
   "cell_type": "markdown",
   "metadata": {},
   "source": [
    "--- Day 5: Print Queue ---"
   ]
  },
  {
   "cell_type": "code",
   "execution_count": 48,
   "metadata": {},
   "outputs": [],
   "source": [
    "file_path = './data/input_5.txt'\n",
    "rules, pages = [], []\n",
    "\n",
    "with open(file_path, 'r') as file:\n",
    "    for line in file:\n",
    "        line = line.strip()\n",
    "        if '|' in line:\n",
    "            rules.append(list(map(int, line.split('|'))) )\n",
    "        elif ',' in line:\n",
    "            pages.append(list(map(int, line.split(','))) )"
   ]
  },
  {
   "cell_type": "code",
   "execution_count": 49,
   "metadata": {},
   "outputs": [
    {
     "data": {
      "text/plain": [
       "5087"
      ]
     },
     "execution_count": 49,
     "metadata": {},
     "output_type": "execute_result"
    }
   ],
   "source": [
    "rules_dict = defaultdict(list)\n",
    "for a, b in rules:\n",
    "    rules_dict[b].append(a)\n",
    "\n",
    "def valid_middle(numbers):\n",
    "    seen, forbidden = set(), set()\n",
    "    for number in numbers:\n",
    "        if (number in forbidden) and (number not in seen):\n",
    "            return 0\n",
    "        seen.add(number)\n",
    "        forbidden.update(rules_dict[number])\n",
    "\n",
    "    return numbers[len(numbers) // 2]\n",
    "\n",
    "sum(valid_middle(numbers) for numbers in pages)"
   ]
  },
  {
   "cell_type": "code",
   "execution_count": 64,
   "metadata": {},
   "outputs": [
    {
     "data": {
      "text/plain": [
       "4971"
      ]
     },
     "execution_count": 64,
     "metadata": {},
     "output_type": "execute_result"
    }
   ],
   "source": [
    "def reorder_invalid_middle(numbers):\n",
    "    seen, forbidden = set(), set()\n",
    "    mid_ind = len(numbers) // 2\n",
    "    for number in numbers:\n",
    "        if (number in forbidden) and (number not in seen):\n",
    "            reordered = sorted(numbers, key=lambda x: len([y for y in rules_dict[x] if y in numbers]))\n",
    "            return reordered[mid_ind]\n",
    "        seen.add(number)\n",
    "        forbidden.update(rules_dict[number])\n",
    "    return 0\n",
    "\n",
    "sum(reorder_invalid_middle(numbers) for numbers in pages)"
   ]
  },
  {
   "cell_type": "markdown",
   "metadata": {},
   "source": [
    "--- Day 6: Guard Gallivant ---"
   ]
  },
  {
   "cell_type": "code",
   "execution_count": 4,
   "metadata": {},
   "outputs": [],
   "source": [
    "file_path = './data/input_6.txt'\n",
    "with open(file_path, 'r') as file:\n",
    "    data = file.read().strip()\n",
    "lines = data.splitlines()"
   ]
  },
  {
   "cell_type": "code",
   "execution_count": 16,
   "metadata": {},
   "outputs": [
    {
     "data": {
      "text/plain": [
       "np.int64(4883)"
      ]
     },
     "execution_count": 16,
     "metadata": {},
     "output_type": "execute_result"
    }
   ],
   "source": [
    "R, C = len(lines), len(lines[0])\n",
    "dirs_dict = {(-1, 0): (0, 1),\n",
    "             (0, 1): (1, 0),\n",
    "             (1, 0): (0, -1),\n",
    "             (0, -1): (-1, 0)}\n",
    "\n",
    "start_r, start_c = [(r, c) for r in range(R) for c in range(C) if lines[r][c] == '^'][0]\n",
    "start_dir = (-1, 0)\n",
    "\n",
    "def simulate_path():\n",
    "    visited = np.zeros((R, C), dtype=int)\n",
    "    r, c = start_r, start_c\n",
    "    dr, dc = start_dir\n",
    "\n",
    "    while 0 <= r < R and 0 <= c < C:\n",
    "        visited[r][c] = 1\n",
    "        if lines[r + dr][c + dc] == '#':\n",
    "            dr, dc = dirs_dict[(dr, dc)]\n",
    "        r += dr\n",
    "        c += dc\n",
    "\n",
    "    return np.sum(visited)\n",
    "\n",
    "simulate_path()"
   ]
  },
  {
   "cell_type": "code",
   "execution_count": 55,
   "metadata": {},
   "outputs": [],
   "source": [
    "def simulate_with_obstruction(block_r, block_c):\n",
    "    \"\"\"Cycle is detected not just position, but also direction\"\"\"\n",
    "    visited = set()\n",
    "    r, c = start_r, start_c\n",
    "    d = 0 # 0: up, 1: right, 2: down, 3: left\n",
    "\n",
    "    while 0 <= r < R and 0 <= c < C:\n",
    "        # print(visited)\n",
    "        if (r, c, d) in visited:\n",
    "            return True\n",
    "        visited.add((r, c, d))\n",
    "        dr, dc = [(-1, 0), (0, 1), (1, 0), (0, -1)][d]\n",
    "        next_r, next_c = r + dr, c + dc\n",
    "        \n",
    "        if not (0 <= next_r < R and 0 <= next_c < C):\n",
    "            break\n",
    "\n",
    "        if lines[next_r][next_c] == '#' or (next_r, next_c) == (block_r, block_c):\n",
    "            d = (d + 1) % 4\n",
    "        else:\n",
    "            r, c = next_r, next_c\n",
    "\n",
    "    return False"
   ]
  },
  {
   "cell_type": "code",
   "execution_count": 56,
   "metadata": {},
   "outputs": [
    {
     "data": {
      "text/plain": [
       "1655"
      ]
     },
     "execution_count": 56,
     "metadata": {},
     "output_type": "execute_result"
    }
   ],
   "source": [
    "sum(simulate_with_obstruction(r, c) for r in range(R) for c in range(C) \n",
    "    if ((r, c) != (start_r, start_c) and lines[r][c] == '.'))"
   ]
  },
  {
   "cell_type": "markdown",
   "metadata": {},
   "source": [
    "--- Day 7: Bridge Repair ---"
   ]
  },
  {
   "cell_type": "code",
   "execution_count": 76,
   "metadata": {},
   "outputs": [],
   "source": [
    "file_path = './data/input_7.txt'\n",
    "results = []\n",
    "operands = []\n",
    "with open(file_path, 'r') as file:\n",
    "    for line in file:\n",
    "        left, right = line.strip().split(':')\n",
    "        results.append(int(left))\n",
    "        operands.append(list(map(int, right.strip().split())))"
   ]
  },
  {
   "cell_type": "code",
   "execution_count": null,
   "metadata": {},
   "outputs": [
    {
     "data": {
      "text/plain": [
       "882304362421"
      ]
     },
     "execution_count": 78,
     "metadata": {},
     "output_type": "execute_result"
    }
   ],
   "source": [
    "def valid_expression(operands, results):\n",
    "    n = len(operands)\n",
    "    acc = deque([operands[0]])\n",
    "    for i in range(1, n):\n",
    "        for j in range(len(acc)):\n",
    "            element = acc.popleft() \n",
    "            acc.append(element + operands[i])\n",
    "            acc.append(element * operands[i])\n",
    "    return results in acc\n",
    "\n",
    "sum(result for operand, result in zip(operands, results) if valid_expression(operand, result))"
   ]
  },
  {
   "cell_type": "code",
   "execution_count": 96,
   "metadata": {},
   "outputs": [
    {
     "data": {
      "text/plain": [
       "145149066755184"
      ]
     },
     "execution_count": 96,
     "metadata": {},
     "output_type": "execute_result"
    }
   ],
   "source": [
    "def valid_expression_concat(operands, results):\n",
    "    n = len(operands)\n",
    "    acc = deque([operands[0]])\n",
    "    for i in range(1, n):\n",
    "        for _ in range(len(acc)):\n",
    "            element = acc.popleft() \n",
    "            acc.append(element + operands[i])\n",
    "            acc.append(element * operands[i])\n",
    "            acc.append(int(str(element) + str(operands[i])))\n",
    "            \n",
    "    return results in acc\n",
    "\n",
    "sum(result for operand, result in zip(operands, results) if valid_expression_concat(operand, result))"
   ]
  },
  {
   "cell_type": "markdown",
   "metadata": {},
   "source": [
    "--- Day 8: Resonant Collinearity ---"
   ]
  },
  {
   "cell_type": "code",
   "execution_count": 4,
   "metadata": {},
   "outputs": [],
   "source": [
    "file_path = './data/input_8.txt'\n",
    "with open(file_path, 'r') as file:\n",
    "    data = file.read().strip()\n",
    "grid = data.splitlines()"
   ]
  },
  {
   "cell_type": "code",
   "execution_count": 5,
   "metadata": {},
   "outputs": [
    {
     "data": {
      "text/plain": [
       "357"
      ]
     },
     "execution_count": 5,
     "metadata": {},
     "output_type": "execute_result"
    }
   ],
   "source": [
    "R, C = len(grid), len(grid[0])\n",
    "char_loc = defaultdict(list)\n",
    "for r in range(R):\n",
    "    for c in range(C):\n",
    "        if grid[r][c] == '.':\n",
    "            continue\n",
    "        char_loc[grid[r][c]].append((r, c))\n",
    "\n",
    "def get_antinode(a, b):\n",
    "    res = []\n",
    "    ax, ay = a\n",
    "    bx, by = b\n",
    "    if 0 <= 2 * bx - ax < R and 0 <= 2 * by - ay < C:\n",
    "        res.append((2 * bx - ax, 2 * by - ay))\n",
    "    if 0 <= 2 * ax - bx < R and 0 <= 2 * ay - by < C:\n",
    "        res.append((2 * ax - bx, 2 * ay - by))\n",
    "    return res\n",
    "\n",
    "antinodes = set()\n",
    "for k, v in char_loc.items():\n",
    "    for a, b in combinations(v, 2):\n",
    "        antinodes.update(get_antinode(a, b))\n",
    "len(antinodes)"
   ]
  },
  {
   "cell_type": "code",
   "execution_count": 16,
   "metadata": {},
   "outputs": [
    {
     "data": {
      "text/plain": [
       "1266"
      ]
     },
     "execution_count": 16,
     "metadata": {},
     "output_type": "execute_result"
    }
   ],
   "source": [
    "def get_antinode_inline(a, b):\n",
    "    res = []\n",
    "    ax, ay = a\n",
    "    bx, by = b\n",
    "    dx, dy = ax - bx, ay - by\n",
    "\n",
    "    x, y = ax, ay\n",
    "    while True:\n",
    "        if not (0 <= x + dx < R and 0 <= y + dy < C):\n",
    "            break\n",
    "        else:\n",
    "            x += dx\n",
    "            y += dy\n",
    "            res.append((x, y))\n",
    "\n",
    "    x, y = bx, by\n",
    "    while True:\n",
    "        if not (0 <= x - dx < R and 0 <= y - dy < C):\n",
    "            break\n",
    "        else:\n",
    "            x -= dx\n",
    "            y -= dy\n",
    "            res.append((x, y))\n",
    "\n",
    "    return res\n",
    "\n",
    "antinodes = set()\n",
    "for k, v in char_loc.items():\n",
    "    antinodes.update(v)\n",
    "    for a, b in combinations(v, 2):\n",
    "        antinodes.update(get_antinode_inline(a, b))\n",
    "len(antinodes)"
   ]
  },
  {
   "cell_type": "markdown",
   "metadata": {},
   "source": [
    "--- Day 9: Disk Fragmenter ---"
   ]
  },
  {
   "cell_type": "code",
   "execution_count": null,
   "metadata": {},
   "outputs": [],
   "source": []
  }
 ],
 "metadata": {
  "kernelspec": {
   "display_name": "base",
   "language": "python",
   "name": "python3"
  },
  "language_info": {
   "codemirror_mode": {
    "name": "ipython",
    "version": 3
   },
   "file_extension": ".py",
   "mimetype": "text/x-python",
   "name": "python",
   "nbconvert_exporter": "python",
   "pygments_lexer": "ipython3",
   "version": "3.12.5"
  }
 },
 "nbformat": 4,
 "nbformat_minor": 2
}
