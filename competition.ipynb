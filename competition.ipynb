{
 "cells": [
  {
   "cell_type": "code",
   "execution_count": 8,
   "metadata": {},
   "outputs": [],
   "source": [
    "import pandas as pd\n",
    "import numpy as np\n",
    "from collections import Counter\n",
    "import re\n",
    "from collections import defaultdict\n",
    "\n",
    "# pd.options.display.float_format = \"{:,.4f}\".format\n",
    "\n",
    "# import matplotlib.pyplot as plt\n",
    "# import seaborn as sns\n",
    "\n",
    "# import statsmodels.api as sm\n",
    "# from scipy.stats import norm\n",
    "# from sklearn.linear_model import LinearRegression\n",
    "# from arch import arch_model\n",
    "\n",
    "# import warnings\n",
    "# warnings.filterwarnings(\"ignore\")\n",
    "\n",
    "# import importlib\n",
    "# import utils as ut\n",
    "# importlib.reload(ut)"
   ]
  },
  {
   "cell_type": "markdown",
   "metadata": {},
   "source": [
    "--- Day 1: Historian Hysteria ---"
   ]
  },
  {
   "cell_type": "code",
   "execution_count": 4,
   "metadata": {},
   "outputs": [
    {
     "data": {
      "text/plain": [
       "np.int64(2086478)"
      ]
     },
     "execution_count": 4,
     "metadata": {},
     "output_type": "execute_result"
    }
   ],
   "source": [
    "file_path = './data/input_1.txt'\n",
    "data = np.loadtxt(file_path, dtype=int)\n",
    "\n",
    "left, right = np.sort(data[:, 0]), np.sort(data[:, 1])\n",
    "\n",
    "np.sum(np.abs(left - right))"
   ]
  },
  {
   "cell_type": "code",
   "execution_count": 5,
   "metadata": {},
   "outputs": [
    {
     "data": {
      "text/plain": [
       "np.int64(24941624)"
      ]
     },
     "execution_count": 5,
     "metadata": {},
     "output_type": "execute_result"
    }
   ],
   "source": [
    "counter = Counter(right)\n",
    "sum(counter[l] * l for l in left)"
   ]
  },
  {
   "cell_type": "markdown",
   "metadata": {},
   "source": [
    "--- Day 2: Red-Nosed Reports ---"
   ]
  },
  {
   "cell_type": "code",
   "execution_count": 26,
   "metadata": {},
   "outputs": [
    {
     "data": {
      "text/plain": [
       "483"
      ]
     },
     "execution_count": 26,
     "metadata": {},
     "output_type": "execute_result"
    }
   ],
   "source": [
    "file_path = './data/input_2.txt'\n",
    "with open(file_path, 'r') as file:\n",
    "    data = [list(map(int, line.split())) for line in file]\n",
    "\n",
    "def is_safe(row):\n",
    "    differences = [row[i] - row[i - 1] for i in range(1, len(row))]\n",
    "    return all(1 <= diff <= 3 for diff in differences) or all(-3 <= diff <= -1 for diff in differences)\n",
    "\n",
    "sum(is_safe(row) for row in data)"
   ]
  },
  {
   "cell_type": "code",
   "execution_count": 31,
   "metadata": {},
   "outputs": [
    {
     "data": {
      "text/plain": [
       "528"
      ]
     },
     "execution_count": 31,
     "metadata": {},
     "output_type": "execute_result"
    }
   ],
   "source": [
    "def is_removable_safe(row):\n",
    "    if is_safe(row):\n",
    "        return True\n",
    "    for i in range(len(row)):\n",
    "        new_row = row[:i] + row[i + 1:]\n",
    "        if is_safe(new_row):\n",
    "            return True\n",
    "    return False\n",
    "\n",
    "sum(is_removable_safe(row) for row in data)"
   ]
  },
  {
   "cell_type": "markdown",
   "metadata": {},
   "source": [
    "--- Day 3: Mull It Over ---"
   ]
  },
  {
   "cell_type": "code",
   "execution_count": 10,
   "metadata": {},
   "outputs": [
    {
     "data": {
      "text/plain": [
       "175615763"
      ]
     },
     "execution_count": 10,
     "metadata": {},
     "output_type": "execute_result"
    }
   ],
   "source": [
    "file_path = './data/input_3.txt'\n",
    "with open(file_path, 'r') as file:\n",
    "    data = file.read()\n",
    "\n",
    "pattern = r'mul\\((\\d+),(\\d+)\\)'\n",
    "matches = re.findall(pattern, data)\n",
    "sum(int(a) * int(b) for a, b in matches)"
   ]
  },
  {
   "cell_type": "code",
   "execution_count": 22,
   "metadata": {},
   "outputs": [
    {
     "data": {
      "text/plain": [
       "74361272"
      ]
     },
     "execution_count": 22,
     "metadata": {},
     "output_type": "execute_result"
    }
   ],
   "source": [
    "mul_pattern = r\"mul\\((\\d+),(\\d+)\\)\"\n",
    "do_pattern = r\"do\\(\\)\"\n",
    "dont_pattern = r\"don't\\(\\)\"\n",
    "\n",
    "pattern = f\"{mul_pattern}|{do_pattern}|{dont_pattern}\"\n",
    "\n",
    "matches = re.finditer(pattern, data)\n",
    "\n",
    "mul_enabled = True\n",
    "total_sum = 0\n",
    "\n",
    "for match in matches:\n",
    "    if match.group().startswith('do()'):\n",
    "        mul_enabled = True\n",
    "    elif match.group().startswith(\"don't()\"):\n",
    "        mul_enabled = False\n",
    "    elif mul_enabled and match.group().startswith(\"mul(\"):\n",
    "        a, b = map(int, match.groups())\n",
    "        total_sum += a * b\n",
    "\n",
    "total_sum"
   ]
  },
  {
   "cell_type": "markdown",
   "metadata": {},
   "source": [
    "--- Day 4: Ceres Search ---"
   ]
  },
  {
   "cell_type": "code",
   "execution_count": 62,
   "metadata": {},
   "outputs": [],
   "source": [
    "file_path = './data/input_4.txt'\n",
    "with open(file_path, 'r') as file:\n",
    "    data = file.read().strip()\n",
    "lines = data.splitlines()"
   ]
  },
  {
   "cell_type": "code",
   "execution_count": 72,
   "metadata": {},
   "outputs": [
    {
     "data": {
      "text/plain": [
       "2427"
      ]
     },
     "execution_count": 72,
     "metadata": {},
     "output_type": "execute_result"
    }
   ],
   "source": [
    "def collect_all_directions(grid):\n",
    "    R, C = len(grid), len(grid[0])\n",
    "    directions = []\n",
    "    directions.extend(grid)\n",
    "    directions.extend([row[::-1] for row in grid])\n",
    "    directions.extend([''.join([grid[r][c] for r in range(R)]) for c in range(C)])\n",
    "    directions.extend([''.join([grid[R - 1 - r][c] for r in range(R)]) for c in range(C)])\n",
    "\n",
    "    for d in range(-R + 1, C):\n",
    "        directions.append(''.join([grid[r][r - d] for r in range(max(0, d), min(R, C + d))]))\n",
    "    for d in range(-R + 1, C):\n",
    "        directions.append(''.join([grid[R - 1 - r][r - d] for r in range(max(0, d), min(R, C + d))]))\n",
    "    for d in range(-R + 1, C):\n",
    "        directions.append(''.join([grid[r][C - 1 - (r - d)] for r in range(max(0, d), min(R, C + d))]))\n",
    "    for d in range(-R + 1, C):\n",
    "        directions.append(''.join([grid[R - 1 - r][C - 1 - (r - d)] for r in range(max(0, d), min(R, C + d))]))\n",
    "\n",
    "    return directions\n",
    "\n",
    "directions = collect_all_directions(lines)\n",
    "sum(direction.count('XMAS') for direction in directions)"
   ]
  },
  {
   "cell_type": "code",
   "execution_count": 77,
   "metadata": {},
   "outputs": [
    {
     "data": {
      "text/plain": [
       "1900"
      ]
     },
     "execution_count": 77,
     "metadata": {},
     "output_type": "execute_result"
    }
   ],
   "source": [
    "def count_X_MAS(grid):\n",
    "    res = 0\n",
    "    for r in range(1, len(grid) - 1):\n",
    "        for c in range(1, len(grid[0]) - 1):\n",
    "            if grid[r][c] == 'A':\n",
    "                if set([grid[r - 1][c - 1], grid[r + 1][c + 1]]) == {'M', 'S'} and set([grid[r - 1][c + 1], grid[r + 1][c - 1]]) == {'M', 'S'}:\n",
    "                    res += 1\n",
    "\n",
    "    return res\n",
    "count_X_MAS(lines)"
   ]
  },
  {
   "cell_type": "markdown",
   "metadata": {},
   "source": [
    "--- Day 5: Print Queue ---"
   ]
  },
  {
   "cell_type": "code",
   "execution_count": 48,
   "metadata": {},
   "outputs": [],
   "source": [
    "file_path = './data/input_5.txt'\n",
    "rules, pages = [], []\n",
    "\n",
    "with open(file_path, 'r') as file:\n",
    "    for line in file:\n",
    "        line = line.strip()\n",
    "        if '|' in line:\n",
    "            rules.append(list(map(int, line.split('|'))) )\n",
    "        elif ',' in line:\n",
    "            pages.append(list(map(int, line.split(','))) )"
   ]
  },
  {
   "cell_type": "code",
   "execution_count": 49,
   "metadata": {},
   "outputs": [
    {
     "data": {
      "text/plain": [
       "5087"
      ]
     },
     "execution_count": 49,
     "metadata": {},
     "output_type": "execute_result"
    }
   ],
   "source": [
    "rules_dict = defaultdict(list)\n",
    "for a, b in rules:\n",
    "    rules_dict[b].append(a)\n",
    "\n",
    "def valid_middle(numbers):\n",
    "    seen, forbidden = set(), set()\n",
    "    for number in numbers:\n",
    "        if (number in forbidden) and (number not in seen):\n",
    "            return 0\n",
    "        seen.add(number)\n",
    "        forbidden.update(rules_dict[number])\n",
    "\n",
    "    return numbers[len(numbers) // 2]\n",
    "\n",
    "sum(valid_middle(numbers) for numbers in pages)"
   ]
  },
  {
   "cell_type": "code",
   "execution_count": 64,
   "metadata": {},
   "outputs": [
    {
     "data": {
      "text/plain": [
       "4971"
      ]
     },
     "execution_count": 64,
     "metadata": {},
     "output_type": "execute_result"
    }
   ],
   "source": [
    "def reorder_invalid_middle(numbers):\n",
    "    seen, forbidden = set(), set()\n",
    "    mid_ind = len(numbers) // 2\n",
    "    for number in numbers:\n",
    "        if (number in forbidden) and (number not in seen):\n",
    "            reordered = sorted(numbers, key=lambda x: len([y for y in rules_dict[x] if y in numbers]))\n",
    "            return reordered[mid_ind]\n",
    "        seen.add(number)\n",
    "        forbidden.update(rules_dict[number])\n",
    "    return 0\n",
    "\n",
    "sum(reorder_invalid_middle(numbers) for numbers in pages)"
   ]
  },
  {
   "cell_type": "markdown",
   "metadata": {},
   "source": [
    "--- Day 6: Guard Gallivant ---"
   ]
  },
  {
   "cell_type": "code",
   "execution_count": null,
   "metadata": {},
   "outputs": [],
   "source": []
  }
 ],
 "metadata": {
  "kernelspec": {
   "display_name": "base",
   "language": "python",
   "name": "python3"
  },
  "language_info": {
   "codemirror_mode": {
    "name": "ipython",
    "version": 3
   },
   "file_extension": ".py",
   "mimetype": "text/x-python",
   "name": "python",
   "nbconvert_exporter": "python",
   "pygments_lexer": "ipython3",
   "version": "3.12.5"
  }
 },
 "nbformat": 4,
 "nbformat_minor": 2
}
