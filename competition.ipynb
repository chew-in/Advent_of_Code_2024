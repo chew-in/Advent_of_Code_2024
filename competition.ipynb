{
 "cells": [
  {
   "cell_type": "code",
   "execution_count": 3,
   "metadata": {},
   "outputs": [],
   "source": [
    "import pandas as pd\n",
    "import numpy as np\n",
    "from collections import Counter\n",
    "\n",
    "# pd.options.display.float_format = \"{:,.4f}\".format\n",
    "\n",
    "# import matplotlib.pyplot as plt\n",
    "# import seaborn as sns\n",
    "\n",
    "# import statsmodels.api as sm\n",
    "# from scipy.stats import norm\n",
    "# from sklearn.linear_model import LinearRegression\n",
    "# from arch import arch_model\n",
    "\n",
    "# import warnings\n",
    "# warnings.filterwarnings(\"ignore\")\n",
    "\n",
    "# import importlib\n",
    "# import utils as ut\n",
    "# importlib.reload(ut)"
   ]
  },
  {
   "cell_type": "markdown",
   "metadata": {},
   "source": [
    "--- Day 1: Historian Hysteria ---"
   ]
  },
  {
   "cell_type": "code",
   "execution_count": 4,
   "metadata": {},
   "outputs": [
    {
     "data": {
      "text/plain": [
       "np.int64(2086478)"
      ]
     },
     "execution_count": 4,
     "metadata": {},
     "output_type": "execute_result"
    }
   ],
   "source": [
    "file_path = './data/input_1.txt'\n",
    "data = np.loadtxt(file_path, dtype=int)\n",
    "\n",
    "left, right = np.sort(data[:, 0]), np.sort(data[:, 1])\n",
    "\n",
    "np.sum(np.abs(left - right))"
   ]
  },
  {
   "cell_type": "code",
   "execution_count": 5,
   "metadata": {},
   "outputs": [
    {
     "data": {
      "text/plain": [
       "np.int64(24941624)"
      ]
     },
     "execution_count": 5,
     "metadata": {},
     "output_type": "execute_result"
    }
   ],
   "source": [
    "counter = Counter(right)\n",
    "sum(counter[l] * l for l in left)"
   ]
  },
  {
   "cell_type": "markdown",
   "metadata": {},
   "source": [
    "--- Day 2: Red-Nosed Reports ---"
   ]
  },
  {
   "cell_type": "code",
   "execution_count": 26,
   "metadata": {},
   "outputs": [
    {
     "data": {
      "text/plain": [
       "483"
      ]
     },
     "execution_count": 26,
     "metadata": {},
     "output_type": "execute_result"
    }
   ],
   "source": [
    "file_path = './data/input_2.txt'\n",
    "with open(file_path, 'r') as file:\n",
    "    data = [list(map(int, line.split())) for line in file]\n",
    "\n",
    "def is_safe(row):\n",
    "    differences = [row[i] - row[i - 1] for i in range(1, len(row))]\n",
    "    return all(1 <= diff <= 3 for diff in differences) or all(-3 <= diff <= -1 for diff in differences)\n",
    "\n",
    "sum(is_safe(row) for row in data)"
   ]
  },
  {
   "cell_type": "code",
   "execution_count": 31,
   "metadata": {},
   "outputs": [
    {
     "data": {
      "text/plain": [
       "528"
      ]
     },
     "execution_count": 31,
     "metadata": {},
     "output_type": "execute_result"
    }
   ],
   "source": [
    "def is_removable_safe(row):\n",
    "    if is_safe(row):\n",
    "        return True\n",
    "    for i in range(len(row)):\n",
    "        new_row = row[:i] + row[i + 1:]\n",
    "        if is_safe(new_row):\n",
    "            return True\n",
    "    return False\n",
    "\n",
    "sum(is_removable_safe(row) for row in data)"
   ]
  },
  {
   "cell_type": "markdown",
   "metadata": {},
   "source": [
    "--- Day 3: Mull It Over ---"
   ]
  },
  {
   "cell_type": "code",
   "execution_count": null,
   "metadata": {},
   "outputs": [],
   "source": []
  }
 ],
 "metadata": {
  "kernelspec": {
   "display_name": "base",
   "language": "python",
   "name": "python3"
  },
  "language_info": {
   "codemirror_mode": {
    "name": "ipython",
    "version": 3
   },
   "file_extension": ".py",
   "mimetype": "text/x-python",
   "name": "python",
   "nbconvert_exporter": "python",
   "pygments_lexer": "ipython3",
   "version": "3.12.5"
  }
 },
 "nbformat": 4,
 "nbformat_minor": 2
}
